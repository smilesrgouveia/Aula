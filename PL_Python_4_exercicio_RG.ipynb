{
  "nbformat": 4,
  "nbformat_minor": 0,
  "metadata": {
    "colab": {
      "name": "PL_Python_4_exercicio.ipynb",
      "provenance": [],
      "collapsed_sections": [],
      "include_colab_link": true
    },
    "kernelspec": {
      "name": "python3",
      "display_name": "Python 3"
    },
    "language_info": {
      "name": "python"
    }
  },
  "cells": [
    {
      "cell_type": "markdown",
      "metadata": {
        "id": "view-in-github",
        "colab_type": "text"
      },
      "source": [
        "<a href=\"https://colab.research.google.com/github/smilesrgouveia/Aula/blob/main/PL_Python_4_exercicio_RG.ipynb\" target=\"_parent\"><img src=\"https://colab.research.google.com/assets/colab-badge.svg\" alt=\"Open In Colab\"/></a>"
      ]
    },
    {
      "cell_type": "markdown",
      "metadata": {
        "id": "iubZQEb71EHd"
      },
      "source": [
        "<head>\n",
        "  <meta name=\"author\" content=\"Rogério de Oliveira\">\n",
        "  <meta institution=\"author\" content=\"Universidade Presbiteriana Mackenzie\">\n",
        "</head>\n",
        "\n",
        "<img src=\"http://meusite.mackenzie.br/rogerio/mackenzie_logo/UPM.2_horizontal_vermelho.jpg\" width=300, align=\"right\"> \n",
        "\n",
        "<h1 align=left><font size = 8, style=\"color:rgb(200,0,0)\"><b>Ciência de Dados </b></font></h1> \n",
        "<h1 align=left><font size = 5, style=\"color:rgb(0,0,0)\"><b>Paradigmas de Linguagens de\n",
        "Programação para Ciência de Dados</b></font></h1> \n",
        "\n",
        "# 4 Estudos de Caso de Análise de Dados I\n",
        "Professores: *Diego Nogare* & *Rogério de Oliveira* \n",
        "\n",
        "<br>\n",
        "<br>\n",
        "\n",
        "---\n"
      ]
    },
    {
      "cell_type": "markdown",
      "metadata": {
        "id": "42yF1G-yHu98"
      },
      "source": [
        "# Exercícios"
      ]
    },
    {
      "cell_type": "code",
      "metadata": {
        "id": "-sQD_AuCkWp8"
      },
      "source": [
        "import numpy as np\n",
        "import pandas as pd\n",
        "import matplotlib.pyplot as plt\n",
        "%matplotlib inline\n",
        "import seaborn as sns"
      ],
      "execution_count": 1,
      "outputs": []
    },
    {
      "cell_type": "markdown",
      "metadata": {
        "id": "irUloP4YHH8n"
      },
      "source": [
        "# WHO Worl Health Organization\n",
        "\n",
        "Os dados abaixo foram obtidos diretamente da Organização Mundial de Saúde. Empregue os dados de 2015 já selecionados abaixo para responder as perguntas."
      ]
    },
    {
      "cell_type": "code",
      "metadata": {
        "colab": {
          "base_uri": "https://localhost:8080/",
          "height": 313
        },
        "id": "1IgZTqak5ajs",
        "outputId": "38892a70-9d45-4e72-c21d-9b74cf0eaf1b"
      },
      "source": [
        "WHO = pd.read_csv('https://raw.githubusercontent.com/Rogerio-mack/Visualizacao-de-Dados-em-Python/main/data/Life_Expectancy_Data.csv')\n",
        "WHO.rename(columns={' BMI ':'BMI', 'Life expectancy ':'Life_expectancy'}, inplace=True)\n",
        "WHO = WHO[ WHO.Year == 2015 ]\n",
        "WHO.head()"
      ],
      "execution_count": 2,
      "outputs": [
        {
          "output_type": "execute_result",
          "data": {
            "text/html": [
              "<div>\n",
              "<style scoped>\n",
              "    .dataframe tbody tr th:only-of-type {\n",
              "        vertical-align: middle;\n",
              "    }\n",
              "\n",
              "    .dataframe tbody tr th {\n",
              "        vertical-align: top;\n",
              "    }\n",
              "\n",
              "    .dataframe thead th {\n",
              "        text-align: right;\n",
              "    }\n",
              "</style>\n",
              "<table border=\"1\" class=\"dataframe\">\n",
              "  <thead>\n",
              "    <tr style=\"text-align: right;\">\n",
              "      <th></th>\n",
              "      <th>Country</th>\n",
              "      <th>Year</th>\n",
              "      <th>Status</th>\n",
              "      <th>Life_expectancy</th>\n",
              "      <th>Adult Mortality</th>\n",
              "      <th>infant deaths</th>\n",
              "      <th>Alcohol</th>\n",
              "      <th>percentage expenditure</th>\n",
              "      <th>Hepatitis B</th>\n",
              "      <th>Measles</th>\n",
              "      <th>BMI</th>\n",
              "      <th>under-five deaths</th>\n",
              "      <th>Polio</th>\n",
              "      <th>Total expenditure</th>\n",
              "      <th>Diphtheria</th>\n",
              "      <th>HIV/AIDS</th>\n",
              "      <th>GDP</th>\n",
              "      <th>Population</th>\n",
              "      <th>thinness  1-19 years</th>\n",
              "      <th>thinness 5-9 years</th>\n",
              "      <th>Income composition of resources</th>\n",
              "      <th>Schooling</th>\n",
              "    </tr>\n",
              "  </thead>\n",
              "  <tbody>\n",
              "    <tr>\n",
              "      <th>0</th>\n",
              "      <td>Afghanistan</td>\n",
              "      <td>2015</td>\n",
              "      <td>Developing</td>\n",
              "      <td>65.0</td>\n",
              "      <td>263.0</td>\n",
              "      <td>62</td>\n",
              "      <td>0.01</td>\n",
              "      <td>71.279624</td>\n",
              "      <td>65.0</td>\n",
              "      <td>1154</td>\n",
              "      <td>19.1</td>\n",
              "      <td>83</td>\n",
              "      <td>6.0</td>\n",
              "      <td>8.16</td>\n",
              "      <td>65.0</td>\n",
              "      <td>0.1</td>\n",
              "      <td>584.259210</td>\n",
              "      <td>33736494.0</td>\n",
              "      <td>17.2</td>\n",
              "      <td>17.3</td>\n",
              "      <td>0.479</td>\n",
              "      <td>10.1</td>\n",
              "    </tr>\n",
              "    <tr>\n",
              "      <th>16</th>\n",
              "      <td>Albania</td>\n",
              "      <td>2015</td>\n",
              "      <td>Developing</td>\n",
              "      <td>77.8</td>\n",
              "      <td>74.0</td>\n",
              "      <td>0</td>\n",
              "      <td>4.60</td>\n",
              "      <td>364.975229</td>\n",
              "      <td>99.0</td>\n",
              "      <td>0</td>\n",
              "      <td>58.0</td>\n",
              "      <td>0</td>\n",
              "      <td>99.0</td>\n",
              "      <td>6.00</td>\n",
              "      <td>99.0</td>\n",
              "      <td>0.1</td>\n",
              "      <td>3954.227830</td>\n",
              "      <td>28873.0</td>\n",
              "      <td>1.2</td>\n",
              "      <td>1.3</td>\n",
              "      <td>0.762</td>\n",
              "      <td>14.2</td>\n",
              "    </tr>\n",
              "    <tr>\n",
              "      <th>32</th>\n",
              "      <td>Algeria</td>\n",
              "      <td>2015</td>\n",
              "      <td>Developing</td>\n",
              "      <td>75.6</td>\n",
              "      <td>19.0</td>\n",
              "      <td>21</td>\n",
              "      <td>NaN</td>\n",
              "      <td>0.000000</td>\n",
              "      <td>95.0</td>\n",
              "      <td>63</td>\n",
              "      <td>59.5</td>\n",
              "      <td>24</td>\n",
              "      <td>95.0</td>\n",
              "      <td>NaN</td>\n",
              "      <td>95.0</td>\n",
              "      <td>0.1</td>\n",
              "      <td>4132.762920</td>\n",
              "      <td>39871528.0</td>\n",
              "      <td>6.0</td>\n",
              "      <td>5.8</td>\n",
              "      <td>0.743</td>\n",
              "      <td>14.4</td>\n",
              "    </tr>\n",
              "    <tr>\n",
              "      <th>48</th>\n",
              "      <td>Angola</td>\n",
              "      <td>2015</td>\n",
              "      <td>Developing</td>\n",
              "      <td>52.4</td>\n",
              "      <td>335.0</td>\n",
              "      <td>66</td>\n",
              "      <td>NaN</td>\n",
              "      <td>0.000000</td>\n",
              "      <td>64.0</td>\n",
              "      <td>118</td>\n",
              "      <td>23.3</td>\n",
              "      <td>98</td>\n",
              "      <td>7.0</td>\n",
              "      <td>NaN</td>\n",
              "      <td>64.0</td>\n",
              "      <td>1.9</td>\n",
              "      <td>3695.793748</td>\n",
              "      <td>2785935.0</td>\n",
              "      <td>8.3</td>\n",
              "      <td>8.2</td>\n",
              "      <td>0.531</td>\n",
              "      <td>11.4</td>\n",
              "    </tr>\n",
              "    <tr>\n",
              "      <th>64</th>\n",
              "      <td>Antigua and Barbuda</td>\n",
              "      <td>2015</td>\n",
              "      <td>Developing</td>\n",
              "      <td>76.4</td>\n",
              "      <td>13.0</td>\n",
              "      <td>0</td>\n",
              "      <td>NaN</td>\n",
              "      <td>0.000000</td>\n",
              "      <td>99.0</td>\n",
              "      <td>0</td>\n",
              "      <td>47.7</td>\n",
              "      <td>0</td>\n",
              "      <td>86.0</td>\n",
              "      <td>NaN</td>\n",
              "      <td>99.0</td>\n",
              "      <td>0.2</td>\n",
              "      <td>13566.954100</td>\n",
              "      <td>NaN</td>\n",
              "      <td>3.3</td>\n",
              "      <td>3.3</td>\n",
              "      <td>0.784</td>\n",
              "      <td>13.9</td>\n",
              "    </tr>\n",
              "  </tbody>\n",
              "</table>\n",
              "</div>"
            ],
            "text/plain": [
              "                Country  Year  ... Income composition of resources  Schooling\n",
              "0           Afghanistan  2015  ...                           0.479       10.1\n",
              "16              Albania  2015  ...                           0.762       14.2\n",
              "32              Algeria  2015  ...                           0.743       14.4\n",
              "48               Angola  2015  ...                           0.531       11.4\n",
              "64  Antigua and Barbuda  2015  ...                           0.784       13.9\n",
              "\n",
              "[5 rows x 22 columns]"
            ]
          },
          "metadata": {},
          "execution_count": 2
        }
      ]
    },
    {
      "cell_type": "markdown",
      "metadata": {
        "id": "_zrNu_lEHhsP"
      },
      "source": [
        "# Qualidade dos Dados\n",
        "\n",
        "Verifique a Qualidade dos Dados. Quantos atributos apresentam dados ausentes a qual atributo tem o maior percentual de dados ausentes?"
      ]
    },
    {
      "cell_type": "code",
      "metadata": {
        "id": "fRHY5L195lOj",
        "colab": {
          "base_uri": "https://localhost:8080/"
        },
        "outputId": "1f6c5a25-4c2a-49d1-e857-3e4363321c11"
      },
      "source": [
        "# Seu código\n",
        "# Seu código\n",
        "print(WHO.isnull().sum())\n",
        "print(((WHO.isnull().sum())/len(WHO))*100)"
      ],
      "execution_count": 5,
      "outputs": [
        {
          "output_type": "stream",
          "name": "stdout",
          "text": [
            "Country                              0\n",
            "Year                                 0\n",
            "Status                               0\n",
            "Life_expectancy                      0\n",
            "Adult Mortality                      0\n",
            "infant deaths                        0\n",
            "Alcohol                            177\n",
            "percentage expenditure               0\n",
            "Hepatitis B                          9\n",
            "Measles                              0\n",
            "BMI                                  2\n",
            "under-five deaths                    0\n",
            "Polio                                0\n",
            "Total expenditure                  181\n",
            "Diphtheria                           0\n",
            " HIV/AIDS                            0\n",
            "GDP                                 29\n",
            "Population                          41\n",
            " thinness  1-19 years                2\n",
            " thinness 5-9 years                  2\n",
            "Income composition of resources     10\n",
            "Schooling                           10\n",
            "dtype: int64\n",
            "Country                             0.000000\n",
            "Year                                0.000000\n",
            "Status                              0.000000\n",
            "Life_expectancy                     0.000000\n",
            "Adult Mortality                     0.000000\n",
            "infant deaths                       0.000000\n",
            "Alcohol                            96.721311\n",
            "percentage expenditure              0.000000\n",
            "Hepatitis B                         4.918033\n",
            "Measles                             0.000000\n",
            "BMI                                 1.092896\n",
            "under-five deaths                   0.000000\n",
            "Polio                               0.000000\n",
            "Total expenditure                  98.907104\n",
            "Diphtheria                          0.000000\n",
            " HIV/AIDS                           0.000000\n",
            "GDP                                15.846995\n",
            "Population                         22.404372\n",
            " thinness  1-19 years               1.092896\n",
            " thinness 5-9 years                 1.092896\n",
            "Income composition of resources     5.464481\n",
            "Schooling                           5.464481\n",
            "dtype: float64\n"
          ]
        }
      ]
    },
    {
      "cell_type": "markdown",
      "metadata": {
        "id": "vkBJZTRDJah_"
      },
      "source": [
        "# Qualidade dos Dados\n",
        "\n",
        "Alguns países estão classificados como países *em desenvolvimento* e parecem destoar do nosso entendimento geral de países *desenvolvidos $\\times$ em desenvolvimento*. Quais dois países parecem se enquadrar neste caso?\n",
        "\n",
        "(Dica: verifique os países em desenvolvimento que apresentam um GDP que discrepante dos demais) "
      ]
    },
    {
      "cell_type": "code",
      "metadata": {
        "id": "pgulq3tJMJ_R",
        "colab": {
          "base_uri": "https://localhost:8080/",
          "height": 898
        },
        "outputId": "0c2eb6e1-38c2-4c43-b7c4-8189637a6af5"
      },
      "source": [
        "# Seu código\n",
        "developing = WHO [ WHO.Status == 'Developing'] [['Country', 'GDP']]\n",
        "developing.head()\n",
        "\n",
        "print(developing.describe())\n",
        "\n",
        "#plt.hist(developing.GDP)\n",
        "\n",
        "discrep = developing[ developing.GDP < 20000 ]\n",
        "plt.hist(WHO.GDP)\n",
        "print(len(discrep))\n",
        "\n",
        "\n",
        "\n",
        "plt.figure(figsize=(20,4))\n",
        "sns.barplot(x=discrep.Country, y=discrep.GDP)\n",
        "plt.xticks(rotation=45)\n",
        "\n",
        "\n",
        "\n",
        "developing.loc[developing.GDP.nsmallest(3).index][['Country','GDP']]"
      ],
      "execution_count": 42,
      "outputs": [
        {
          "output_type": "stream",
          "name": "stdout",
          "text": [
            "                GDP\n",
            "count    126.000000\n",
            "mean    5129.859282\n",
            "std     9045.293993\n",
            "min       33.681223\n",
            "25%      657.571918\n",
            "50%     2052.094178\n",
            "75%     4972.199439\n",
            "max    66346.522670\n",
            "120\n"
          ]
        },
        {
          "output_type": "execute_result",
          "data": {
            "text/html": [
              "<div>\n",
              "<style scoped>\n",
              "    .dataframe tbody tr th:only-of-type {\n",
              "        vertical-align: middle;\n",
              "    }\n",
              "\n",
              "    .dataframe tbody tr th {\n",
              "        vertical-align: top;\n",
              "    }\n",
              "\n",
              "    .dataframe thead th {\n",
              "        text-align: right;\n",
              "    }\n",
              "</style>\n",
              "<table border=\"1\" class=\"dataframe\">\n",
              "  <thead>\n",
              "    <tr style=\"text-align: right;\">\n",
              "      <th></th>\n",
              "      <th>Country</th>\n",
              "      <th>GDP</th>\n",
              "    </tr>\n",
              "  </thead>\n",
              "  <tbody>\n",
              "    <tr>\n",
              "      <th>416</th>\n",
              "      <td>Burundi</td>\n",
              "      <td>33.681223</td>\n",
              "    </tr>\n",
              "    <tr>\n",
              "      <th>1554</th>\n",
              "      <td>Madagascar</td>\n",
              "      <td>41.857595</td>\n",
              "    </tr>\n",
              "    <tr>\n",
              "      <th>144</th>\n",
              "      <td>Azerbaijan</td>\n",
              "      <td>55.313820</td>\n",
              "    </tr>\n",
              "  </tbody>\n",
              "</table>\n",
              "</div>"
            ],
            "text/plain": [
              "         Country        GDP\n",
              "416      Burundi  33.681223\n",
              "1554  Madagascar  41.857595\n",
              "144   Azerbaijan  55.313820"
            ]
          },
          "metadata": {},
          "execution_count": 42
        },
        {
          "output_type": "display_data",
          "data": {
            "image/png": "[encoded data removed]",
            "text/plain": [
              "<Figure size 432x288 with 1 Axes>"
            ]
          },
          "metadata": {
            "needs_background": "light"
          }
        },
        {
          "output_type": "display_data",
          "data": {
            "image/png": "[encoded data removed]",
            "text/plain": [
              "<Figure size 1440x288 with 1 Axes>"
            ]
          },
          "metadata": {
            "needs_background": "light"
          }
        }
      ]
    },
    {
      "cell_type": "code",
      "metadata": {
        "colab": {
          "base_uri": "https://localhost:8080/",
          "height": 206
        },
        "id": "fdBeobvtxgu-",
        "outputId": "7393c310-ed05-4ddf-e418-e25b4049a21d"
      },
      "source": [
        "developing.loc[developing.GDP.nlargest(5).index][['Country','GDP']]\n",
        "\n"
      ],
      "execution_count": 43,
      "outputs": [
        {
          "output_type": "execute_result",
          "data": {
            "text/html": [
              "<div>\n",
              "<style scoped>\n",
              "    .dataframe tbody tr th:only-of-type {\n",
              "        vertical-align: middle;\n",
              "    }\n",
              "\n",
              "    .dataframe tbody tr th {\n",
              "        vertical-align: top;\n",
              "    }\n",
              "\n",
              "    .dataframe thead th {\n",
              "        text-align: right;\n",
              "    }\n",
              "</style>\n",
              "<table border=\"1\" class=\"dataframe\">\n",
              "  <thead>\n",
              "    <tr style=\"text-align: right;\">\n",
              "      <th></th>\n",
              "      <th>Country</th>\n",
              "      <th>GDP</th>\n",
              "    </tr>\n",
              "  </thead>\n",
              "  <tbody>\n",
              "    <tr>\n",
              "      <th>2071</th>\n",
              "      <td>Qatar</td>\n",
              "      <td>66346.52267</td>\n",
              "    </tr>\n",
              "    <tr>\n",
              "      <th>496</th>\n",
              "      <td>Canada</td>\n",
              "      <td>43315.74400</td>\n",
              "    </tr>\n",
              "    <tr>\n",
              "      <th>930</th>\n",
              "      <td>France</td>\n",
              "      <td>36526.77110</td>\n",
              "    </tr>\n",
              "    <tr>\n",
              "      <th>1266</th>\n",
              "      <td>Israel</td>\n",
              "      <td>35729.37253</td>\n",
              "    </tr>\n",
              "    <tr>\n",
              "      <th>1394</th>\n",
              "      <td>Kuwait</td>\n",
              "      <td>28975.41800</td>\n",
              "    </tr>\n",
              "  </tbody>\n",
              "</table>\n",
              "</div>"
            ],
            "text/plain": [
              "     Country          GDP\n",
              "2071   Qatar  66346.52267\n",
              "496   Canada  43315.74400\n",
              "930   France  36526.77110\n",
              "1266  Israel  35729.37253\n",
              "1394  Kuwait  28975.41800"
            ]
          },
          "metadata": {},
          "execution_count": 43
        }
      ]
    },
    {
      "cell_type": "markdown",
      "metadata": {
        "id": "OfEScFxBKY3e"
      },
      "source": [
        "# Distribuição dos Dados\n",
        "\n",
        "Analise a Distribuição da Expectativa de Vida entre os países Desenvolvidos e em Desenvolvimento. O que você consegue afirmar sobre essas distribuições? "
      ]
    },
    {
      "cell_type": "code",
      "metadata": {
        "id": "FjY7MDViMLdc"
      },
      "source": [
        "# Seu código"
      ],
      "execution_count": null,
      "outputs": []
    },
    {
      "cell_type": "markdown",
      "metadata": {
        "id": "u0rWQ7awKt5V"
      },
      "source": [
        "# Relações\n",
        "\n",
        "Quais índices aparecem como mais correlacionados a Expectativa de Vida dos países em Desenvolvimento?  "
      ]
    },
    {
      "cell_type": "code",
      "metadata": {
        "id": "RWxUK-s3MMiT"
      },
      "source": [
        "# Seu código"
      ],
      "execution_count": null,
      "outputs": []
    },
    {
      "cell_type": "markdown",
      "metadata": {
        "id": "1WkN-T57LUjd"
      },
      "source": [
        "# Ranking\n",
        "\n",
        "Qual a posição do Brasil no Ranking de Escolaridade (`Schooling`) com relação aos demais países? "
      ]
    },
    {
      "cell_type": "code",
      "metadata": {
        "id": "2fheoxdEMNaQ",
        "colab": {
          "base_uri": "https://localhost:8080/"
        },
        "outputId": "34d22914-d780-4df6-ad51-a78641304aa4"
      },
      "source": [
        "# Seu código\n",
        "BRASIL = WHO [ WHO.Country == 'Brazil']['Schooling']\n",
        "print(BRASIL)"
      ],
      "execution_count": 54,
      "outputs": [
        {
          "output_type": "stream",
          "name": "stdout",
          "text": [
            "352    15.2\n",
            "Name: Schooling, dtype: float64\n"
          ]
        }
      ]
    }
  ]
}