{
  "nbformat": 4,
  "nbformat_minor": 0,
  "metadata": {
    "colab": {
      "name": "PL_Python_1_exercicio.ipynb",
      "provenance": []
    },
    "kernelspec": {
      "name": "python3",
      "display_name": "Python 3"
    },
    "language_info": {
      "name": "python"
    }
  },
  "cells": [
    {
      "cell_type": "markdown",
      "metadata": {
        "id": "pqEhMdFQO3A-"
      },
      "source": [
        "<head>\n",
        "  <meta name=\"author\" content=\"Rogério de Oliveira\">\n",
        "  <meta institution=\"author\" content=\"Universidade Presbiteriana Mackenzie\">\n",
        "</head>\n",
        "\n",
        "<img src=\"http://meusite.mackenzie.br/rogerio/mackenzie_logo/UPM.2_horizontal_vermelho.jpg\" width=300, align=\"right\"> \n",
        "\n",
        "<h1 align=left><font size = 8, style=\"color:rgb(200,0,0)\"><b>Ciência de Dados </b></font></h1> \n",
        "<h1 align=left><font size = 5, style=\"color:rgb(0,0,0)\"><b>Paradigmas de Linguagens de\n",
        "Programação para Ciência de Dados</b></font></h1> \n",
        "\n",
        "# 1 Introdução à Programação Python\n",
        "Professores: *Diego Nogare* & *Rogério de Oliveira* \n",
        "\n",
        "<br>\n",
        "<br>\n",
        "\n",
        "---\n"
      ]
    },
    {
      "cell_type": "markdown",
      "metadata": {
        "id": "42yF1G-yHu98"
      },
      "source": [
        "# Exercícios"
      ]
    },
    {
      "cell_type": "markdown",
      "metadata": {
        "id": "BDm3FTRtWXCY"
      },
      "source": [
        "Em todos os exercícios execute o código abaixo como a primeira instrução e uma única vez para gerar os valores de `letras` e `lista`.\n",
        "\n",
        "Todos exercícios possuem várias soluções possíveis, mas não se preocupe com isso. A melhor solução é primeiro, a que funciona para você!"
      ]
    },
    {
      "cell_type": "code",
      "metadata": {
        "colab": {
          "base_uri": "https://localhost:8080/"
        },
        "id": "xBjopVrbVgb5",
        "outputId": "36f63553-e1ea-4b35-9640-993971dd7dd4"
      },
      "source": [
        "import random; from random import choices; import string; random.seed(1234)\n",
        "import numpy as np\n",
        "letras = choices(string.ascii_lowercase,k=100)\n",
        "lista = random.sample(range(1, 10000), 1000)\n",
        "print(np.array(lista).sum() == 5244799) # precisa retornar True!"
      ],
      "execution_count": 1,
      "outputs": [
        {
          "output_type": "stream",
          "text": [
            "True\n"
          ],
          "name": "stdout"
        }
      ]
    },
    {
      "cell_type": "markdown",
      "metadata": {
        "id": "XEngnerfXmKX"
      },
      "source": [
        "1. Dos valores [9887, 3233, 813] quais estão presentes em `lista` e, se presentes, qual o seu índice? "
      ]
    },
    {
      "cell_type": "code",
      "metadata": {
        "id": "8KlbNKnHR6VZ",
        "outputId": "bbace9f0-ebe5-457c-9486-d816d4938219",
        "colab": {
          "base_uri": "https://localhost:8080/",
          "height": 231
        }
      },
      "source": [
        "# seu código\n",
        "print(lista.index(9887))\n",
        "print(lista.index(3233))\n",
        "print(lista.index(813))"
      ],
      "execution_count": 83,
      "outputs": [
        {
          "output_type": "stream",
          "text": [
            "877\n",
            "680\n"
          ],
          "name": "stdout"
        },
        {
          "output_type": "error",
          "ename": "ValueError",
          "evalue": "ignored",
          "traceback": [
            "\u001b[0;31m---------------------------------------------------------------------------\u001b[0m",
            "\u001b[0;31mValueError\u001b[0m                                Traceback (most recent call last)",
            "\u001b[0;32m<ipython-input-83-ce6a4fd1e2f3>\u001b[0m in \u001b[0;36m<module>\u001b[0;34m()\u001b[0m\n\u001b[1;32m      2\u001b[0m \u001b[0mprint\u001b[0m\u001b[0;34m(\u001b[0m\u001b[0mlista\u001b[0m\u001b[0;34m.\u001b[0m\u001b[0mindex\u001b[0m\u001b[0;34m(\u001b[0m\u001b[0;36m9887\u001b[0m\u001b[0;34m)\u001b[0m\u001b[0;34m)\u001b[0m\u001b[0;34m\u001b[0m\u001b[0;34m\u001b[0m\u001b[0m\n\u001b[1;32m      3\u001b[0m \u001b[0mprint\u001b[0m\u001b[0;34m(\u001b[0m\u001b[0mlista\u001b[0m\u001b[0;34m.\u001b[0m\u001b[0mindex\u001b[0m\u001b[0;34m(\u001b[0m\u001b[0;36m3233\u001b[0m\u001b[0;34m)\u001b[0m\u001b[0;34m)\u001b[0m\u001b[0;34m\u001b[0m\u001b[0;34m\u001b[0m\u001b[0m\n\u001b[0;32m----> 4\u001b[0;31m \u001b[0mprint\u001b[0m\u001b[0;34m(\u001b[0m\u001b[0mlista\u001b[0m\u001b[0;34m.\u001b[0m\u001b[0mindex\u001b[0m\u001b[0;34m(\u001b[0m\u001b[0;36m813\u001b[0m\u001b[0;34m)\u001b[0m\u001b[0;34m)\u001b[0m\u001b[0;34m\u001b[0m\u001b[0;34m\u001b[0m\u001b[0m\n\u001b[0m",
            "\u001b[0;31mValueError\u001b[0m: 813 is not in list"
          ]
        }
      ]
    },
    {
      "cell_type": "markdown",
      "metadata": {
        "id": "95H7DlB_YARA"
      },
      "source": [
        "2. Quais os dois primeiros valores maiores que 2046 em `lista`?"
      ]
    },
    {
      "cell_type": "code",
      "metadata": {
        "id": "D5HtxhSKagDu",
        "outputId": "0e88ff78-ec1e-4971-a9e0-07be30e13103",
        "colab": {
          "base_uri": "https://localhost:8080/",
          "height": 214
        }
      },
      "source": [
        "# seu código\n",
        "a = 2046 \n",
        "\n",
        "for i in lista:\n",
        "  if a > lista:\n",
        "    print(lista)\n"
      ],
      "execution_count": 93,
      "outputs": [
        {
          "output_type": "error",
          "ename": "TypeError",
          "evalue": "ignored",
          "traceback": [
            "\u001b[0;31m---------------------------------------------------------------------------\u001b[0m",
            "\u001b[0;31mTypeError\u001b[0m                                 Traceback (most recent call last)",
            "\u001b[0;32m<ipython-input-93-ce5d8b8997f6>\u001b[0m in \u001b[0;36m<module>\u001b[0;34m()\u001b[0m\n\u001b[1;32m      3\u001b[0m \u001b[0;34m\u001b[0m\u001b[0m\n\u001b[1;32m      4\u001b[0m \u001b[0;32mfor\u001b[0m \u001b[0mi\u001b[0m \u001b[0;32min\u001b[0m \u001b[0mlista\u001b[0m\u001b[0;34m:\u001b[0m\u001b[0;34m\u001b[0m\u001b[0;34m\u001b[0m\u001b[0m\n\u001b[0;32m----> 5\u001b[0;31m   \u001b[0;32mif\u001b[0m \u001b[0ma\u001b[0m \u001b[0;34m>\u001b[0m \u001b[0mlista\u001b[0m\u001b[0;34m:\u001b[0m\u001b[0;34m\u001b[0m\u001b[0;34m\u001b[0m\u001b[0m\n\u001b[0m\u001b[1;32m      6\u001b[0m     \u001b[0mprint\u001b[0m\u001b[0;34m(\u001b[0m\u001b[0mlista\u001b[0m\u001b[0;34m)\u001b[0m\u001b[0;34m\u001b[0m\u001b[0;34m\u001b[0m\u001b[0m\n",
            "\u001b[0;31mTypeError\u001b[0m: '>' not supported between instances of 'int' and 'list'"
          ]
        }
      ]
    },
    {
      "cell_type": "markdown",
      "metadata": {
        "id": "_i-bSWW9YNa_"
      },
      "source": [
        "3. Quais os valores mínimo e máximo em `lista`? "
      ]
    },
    {
      "cell_type": "code",
      "metadata": {
        "id": "8-6xfJ92agcF",
        "outputId": "7e24f283-e9e8-4a91-acd4-b24c4e428e1e",
        "colab": {
          "base_uri": "https://localhost:8080/"
        }
      },
      "source": [
        "# seu código\n",
        "lista.sort()\n",
        "#print(lista)\n",
        "\n",
        "menor = min(lista)\n",
        "maior = max(lista)\n",
        "\n",
        "print (\"O maior número gerado foi:\", maior)\n",
        "print (\"O menor número gerado foi:\", menor)"
      ],
      "execution_count": 92,
      "outputs": [
        {
          "output_type": "stream",
          "text": [
            "O maior número gerado foi: 9998\n",
            "O menor número gerado foi: 4\n"
          ],
          "name": "stdout"
        }
      ]
    },
    {
      "cell_type": "markdown",
      "metadata": {
        "id": "yJOItauOYa-g"
      },
      "source": [
        "4. Quais as 4 letras que mais aparecem em `letras`?\n",
        "\n",
        "<small> ( Existe várias formas de fazer isso, mas fica aqui a sugestão: se você implementar um dicionário *letra:quantidade* poderá empregar a mesma solução na tarefa de aprofundamento! ) </small> "
      ]
    },
    {
      "cell_type": "code",
      "metadata": {
        "id": "48y8A-6Cag6I",
        "outputId": "ece92cce-92a6-429b-fecc-94edd4dca78b",
        "colab": {
          "base_uri": "https://localhost:8080/",
          "height": 180
        }
      },
      "source": [
        "# seu código  \n",
        "for p in letras\n",
        "    "
      ],
      "execution_count": 89,
      "outputs": [
        {
          "output_type": "error",
          "ename": "NameError",
          "evalue": "ignored",
          "traceback": [
            "\u001b[0;31m---------------------------------------------------------------------------\u001b[0m",
            "\u001b[0;31mNameError\u001b[0m                                 Traceback (most recent call last)",
            "\u001b[0;32m<ipython-input-89-937e5f916d92>\u001b[0m in \u001b[0;36m<module>\u001b[0;34m()\u001b[0m\n\u001b[1;32m      1\u001b[0m \u001b[0;31m# seu código\u001b[0m\u001b[0;34m\u001b[0m\u001b[0;34m\u001b[0m\u001b[0;34m\u001b[0m\u001b[0m\n\u001b[0;32m----> 2\u001b[0;31m \u001b[0mfrequencias\u001b[0m \u001b[0;34m=\u001b[0m \u001b[0mCounter\u001b[0m\u001b[0;34m(\u001b[0m\u001b[0mletras\u001b[0m\u001b[0;34m)\u001b[0m\u001b[0;34m.\u001b[0m\u001b[0mmost_common\u001b[0m\u001b[0;34m(\u001b[0m\u001b[0;34m)\u001b[0m\u001b[0;34m\u001b[0m\u001b[0;34m\u001b[0m\u001b[0m\n\u001b[0m",
            "\u001b[0;31mNameError\u001b[0m: name 'Counter' is not defined"
          ]
        }
      ]
    },
    {
      "cell_type": "markdown",
      "metadata": {
        "id": "cdADnpZFZKxg"
      },
      "source": [
        "5. Qual a soma dos valores pares de `lista`?"
      ]
    },
    {
      "cell_type": "code",
      "metadata": {
        "id": "LnOxIdHWahaI",
        "outputId": "9ebf0cb0-8a58-4149-fe4a-fdfad7386c9d",
        "colab": {
          "base_uri": "https://localhost:8080/"
        }
      },
      "source": [
        "# seu código\n",
        "listapar = []\n",
        "\n",
        "for i in lista:\n",
        "  if i % 2 == 0:\n",
        "    listapar.append(i)\n",
        "    \n",
        "print(listapar)\n",
        "sum(listapar)"
      ],
      "execution_count": 77,
      "outputs": [
        {
          "output_type": "stream",
          "text": [
            "[5194, 5008, 1086, 4218, 3308, 1660, 7530, 3872, 5776, 2508, 8186, 8996, 2146, 788, 5330, 28, 1436, 2430, 3556, 654, 6414, 5316, 3394, 6246, 4990, 5226, 9466, 1522, 4266, 4556, 6722, 1864, 6150, 4874, 9626, 3810, 1202, 7868, 6472, 4890, 7028, 7858, 6562, 2576, 9692, 8502, 7774, 464, 7666, 1700, 7796, 5436, 4746, 9222, 4814, 3188, 4572, 1188, 8750, 1392, 9654, 1960, 4214, 2246, 3420, 5824, 7120, 5000, 4284, 7956, 9500, 3598, 5698, 8264, 1358, 298, 9586, 9244, 3762, 7832, 8722, 1118, 3986, 2692, 8298, 8274, 6442, 5350, 9204, 9998, 9818, 670, 6090, 1126, 6048, 6692, 732, 1162, 5148, 3248, 5672, 9664, 8074, 860, 7342, 1314, 4804, 5576, 2424, 7966, 3966, 6086, 6800, 2852, 1224, 292, 3478, 8972, 2318, 4174, 812, 5924, 9794, 6092, 4726, 6688, 6028, 4674, 144, 1974, 8802, 3014, 5280, 4800, 5946, 4472, 7486, 8906, 3142, 4480, 5798, 6708, 8686, 7296, 6112, 9504, 2082, 7690, 7998, 1586, 8952, 9138, 3916, 5494, 6426, 8556, 5816, 6644, 8980, 3086, 7630, 5236, 8600, 1768, 8834, 7590, 3236, 5504, 6190, 482, 2592, 5178, 9866, 742, 5296, 5570, 5046, 9706, 9450, 146, 9738, 5188, 4078, 2558, 3184, 9996, 7422, 9942, 7292, 5512, 4404, 9412, 5164, 4690, 2586, 2686, 6732, 3380, 9010, 6626, 1134, 1034, 7954, 6222, 3892, 4960, 8408, 8510, 8494, 428, 8210, 2340, 6152, 2902, 8644, 2244, 4938, 8004, 8858, 7734, 4568, 7248, 4092, 9198, 2374, 3570, 8560, 5614, 6770, 5674, 272, 290, 7214, 3874, 182, 6920, 8140, 6910, 5434, 8496, 9616, 7944, 7682, 9680, 280, 4786, 9372, 6476, 6868, 690, 1828, 9988, 1186, 8400, 542, 8222, 472, 5654, 8330, 6744, 2992, 3780, 8028, 3988, 7302, 7520, 2642, 6840, 5108, 3040, 5036, 8188, 296, 6960, 2662, 5556, 4700, 9454, 5496, 6690, 7246, 2994, 6650, 1748, 8480, 9628, 8490, 8784, 5210, 7896, 4294, 7384, 596, 3544, 7306, 680, 4372, 9496, 530, 9386, 5616, 3482, 1440, 4912, 276, 1120, 458, 4876, 9136, 5660, 9990, 3574, 1290, 5484, 5780, 6362, 5818, 1558, 512, 2118, 2190, 7392, 2064, 1580, 1012, 9318, 2598, 518, 8090, 9802, 1348, 8244, 7134, 5900, 294, 6890, 3146, 8876, 2806, 6216, 7800, 6318, 4256, 2342, 5862, 2154, 4280, 5104, 2748, 2540, 9888, 9518, 960, 6874, 816, 614, 7798, 5182, 4470, 8504, 9892, 1554, 5982, 5974, 6998, 4858, 4618, 4210, 2778, 7444, 9312, 5882, 3292, 3000, 1020, 6178, 9306, 3884, 6154, 6096, 9980, 3660, 9098, 7242, 2030, 9178, 7366, 4534, 1490, 8566, 784, 4932, 3472, 6210, 2174, 6738, 2502, 6110, 4776, 7140, 858, 9434, 9482, 6406, 2604, 2402, 7720, 1726, 9214, 1332, 3376, 2210, 6944, 1046, 5140, 3360, 6580, 6144, 8614, 342, 5618, 5384, 7450, 2016, 7166, 1328, 5304, 4398, 110, 6660, 8680, 9102, 1036, 8018, 982, 4, 8790, 6306, 8296, 9100, 3802, 4180, 1240, 4770, 5602, 6950, 7786, 8856, 5336, 3470, 3410, 6740, 8694, 7680, 7098, 244, 2750, 1448, 7326, 636, 1562, 4300, 140, 8968, 5540, 1512, 6608, 6506, 3286, 5392, 9634, 5532, 948, 6852, 8914, 7268, 3676, 9478, 7408, 8376, 8290, 9392, 5356, 9276, 1822, 8034, 5890, 5320, 1728, 2372, 4772, 7462, 8242, 4402, 1462, 9146, 764, 7280, 8698, 1658, 4050, 1478, 6512, 5414, 3224, 2294, 5956, 4570, 668, 6968, 446, 3212, 4884, 2616, 8072, 1150, 1262]\n"
          ],
          "name": "stdout"
        },
        {
          "output_type": "execute_result",
          "data": {
            "text/plain": [
              "2687196"
            ]
          },
          "metadata": {
            "tags": []
          },
          "execution_count": 77
        }
      ]
    },
    {
      "cell_type": "code",
      "metadata": {
        "id": "4lrYGAUhAKmR"
      },
      "source": [
        ""
      ],
      "execution_count": null,
      "outputs": []
    }
  ]
}