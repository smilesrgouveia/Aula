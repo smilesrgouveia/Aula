{
  "nbformat": 4,
  "nbformat_minor": 0,
  "metadata": {
    "colab": {
      "name": "PrimeiroPrograma.ipynb",
      "provenance": [],
      "authorship_tag": "ABX9TyPDwIWO4ija462AP2/VNKoP"
    },
    "kernelspec": {
      "name": "python3",
      "display_name": "Python 3"
    },
    "language_info": {
      "name": "python"
    }
  },
  "cells": [
    {
      "cell_type": "code",
      "metadata": {
        "colab": {
          "base_uri": "https://localhost:8080/"
        },
        "id": "k6Fl3OwbhQd0",
        "outputId": "aa0d0f5b-1ee0-4d24-ee54-8113c9caec75"
      },
      "source": [
        "print(2+5)"
      ],
      "execution_count": 1,
      "outputs": [
        {
          "output_type": "stream",
          "text": [
            "7\n"
          ],
          "name": "stdout"
        }
      ]
    },
    {
      "cell_type": "code",
      "metadata": {
        "colab": {
          "base_uri": "https://localhost:8080/"
        },
        "id": "cGsZBI7YhUoc",
        "outputId": "7dd61e9d-e97a-4040-9331-2a3a26bb4a57"
      },
      "source": [
        "print('Rafael')"
      ],
      "execution_count": 2,
      "outputs": [
        {
          "output_type": "stream",
          "text": [
            "Rafael\n"
          ],
          "name": "stdout"
        }
      ]
    }
  ]
}