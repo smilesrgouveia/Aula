{
  "nbformat": 4,
  "nbformat_minor": 0,
  "metadata": {
    "colab": {
      "name": "PL_Python_4_exercicio.ipynb",
      "provenance": [],
      "collapsed_sections": [],
      "include_colab_link": true
    },
    "kernelspec": {
      "name": "python3",
      "display_name": "Python 3"
    },
    "language_info": {
      "name": "python"
    }
  },
  "cells": [
    {
      "cell_type": "markdown",
      "metadata": {
        "id": "view-in-github",
        "colab_type": "text"
      },
      "source": [
        "<a href=\"https://colab.research.google.com/github/smilesrgouveia/Aula/blob/main/PL_Python_4_exercicio.ipynb\" target=\"_parent\"><img src=\"https://colab.research.google.com/assets/colab-badge.svg\" alt=\"Open In Colab\"/></a>"
      ]
    },
    {
      "cell_type": "markdown",
      "metadata": {
        "id": "iubZQEb71EHd"
      },
      "source": [
        "<head>\n",
        "  <meta name=\"author\" content=\"Rogério de Oliveira\">\n",
        "  <meta institution=\"author\" content=\"Universidade Presbiteriana Mackenzie\">\n",
        "</head>\n",
        "\n",
        "<img src=\"http://meusite.mackenzie.br/rogerio/mackenzie_logo/UPM.2_horizontal_vermelho.jpg\" width=300, align=\"right\"> \n",
        "\n",
        "<h1 align=left><font size = 8, style=\"color:rgb(200,0,0)\"><b>Ciência de Dados </b></font></h1> \n",
        "<h1 align=left><font size = 5, style=\"color:rgb(0,0,0)\"><b>Paradigmas de Linguagens de\n",
        "Programação para Ciência de Dados</b></font></h1> \n",
        "\n",
        "# 4 Estudos de Caso de Análise de Dados I\n",
        "Professores: *Diego Nogare* & *Rogério de Oliveira* \n",
        "\n",
        "<br>\n",
        "<br>\n",
        "\n",
        "---\n"
      ]
    },
    {
      "cell_type": "markdown",
      "metadata": {
        "id": "42yF1G-yHu98"
      },
      "source": [
        "# Exercícios"
      ]
    },
    {
      "cell_type": "code",
      "metadata": {
        "id": "-sQD_AuCkWp8"
      },
      "source": [
        "import numpy as np\n",
        "import pandas as pd\n",
        "import matplotlib.pyplot as plt\n",
        "%matplotlib inline\n",
        "import seaborn as sns"
      ],
      "execution_count": 1,
      "outputs": []
    },
    {
      "cell_type": "markdown",
      "metadata": {
        "id": "irUloP4YHH8n"
      },
      "source": [
        "# WHO Worl Health Organization\n",
        "\n",
        "Os dados abaixo foram obtidos diretamente da Organização Mundial de Saúde. Empregue os dados de 2015 já selecionados abaixo para responder as perguntas."
      ]
    },
    {
      "cell_type": "code",
      "metadata": {
        "colab": {
          "base_uri": "https://localhost:8080/",
          "height": 272
        },
        "id": "1IgZTqak5ajs",
        "outputId": "c11f7326-0b2a-4f15-88e7-1605afeb0a42"
      },
      "source": [
        "WHO = pd.read_csv('https://raw.githubusercontent.com/Rogerio-mack/Visualizacao-de-Dados-em-Python/main/data/Life_Expectancy_Data.csv')\n",
        "WHO.rename(columns={' BMI ':'BMI', 'Life expectancy ':'Life_expectancy'}, inplace=True)\n",
        "WHO = WHO[ WHO.Year == 2015 ]\n",
        "WHO.head()"
      ],
      "execution_count": 2,
      "outputs": [
        {
          "output_type": "execute_result",
          "data": {
            "text/html": [
              "<div>\n",
              "<style scoped>\n",
              "    .dataframe tbody tr th:only-of-type {\n",
              "        vertical-align: middle;\n",
              "    }\n",
              "\n",
              "    .dataframe tbody tr th {\n",
              "        vertical-align: top;\n",
              "    }\n",
              "\n",
              "    .dataframe thead th {\n",
              "        text-align: right;\n",
              "    }\n",
              "</style>\n",
              "<table border=\"1\" class=\"dataframe\">\n",
              "  <thead>\n",
              "    <tr style=\"text-align: right;\">\n",
              "      <th></th>\n",
              "      <th>Country</th>\n",
              "      <th>Year</th>\n",
              "      <th>Status</th>\n",
              "      <th>Life_expectancy</th>\n",
              "      <th>Adult Mortality</th>\n",
              "      <th>infant deaths</th>\n",
              "      <th>Alcohol</th>\n",
              "      <th>percentage expenditure</th>\n",
              "      <th>Hepatitis B</th>\n",
              "      <th>Measles</th>\n",
              "      <th>BMI</th>\n",
              "      <th>under-five deaths</th>\n",
              "      <th>Polio</th>\n",
              "      <th>Total expenditure</th>\n",
              "      <th>Diphtheria</th>\n",
              "      <th>HIV/AIDS</th>\n",
              "      <th>GDP</th>\n",
              "      <th>Population</th>\n",
              "      <th>thinness  1-19 years</th>\n",
              "      <th>thinness 5-9 years</th>\n",
              "      <th>Income composition of resources</th>\n",
              "      <th>Schooling</th>\n",
              "    </tr>\n",
              "  </thead>\n",
              "  <tbody>\n",
              "    <tr>\n",
              "      <th>0</th>\n",
              "      <td>Afghanistan</td>\n",
              "      <td>2015</td>\n",
              "      <td>Developing</td>\n",
              "      <td>65.0</td>\n",
              "      <td>263.0</td>\n",
              "      <td>62</td>\n",
              "      <td>0.01</td>\n",
              "      <td>71.279624</td>\n",
              "      <td>65.0</td>\n",
              "      <td>1154</td>\n",
              "      <td>19.1</td>\n",
              "      <td>83</td>\n",
              "      <td>6.0</td>\n",
              "      <td>8.16</td>\n",
              "      <td>65.0</td>\n",
              "      <td>0.1</td>\n",
              "      <td>584.259210</td>\n",
              "      <td>33736494.0</td>\n",
              "      <td>17.2</td>\n",
              "      <td>17.3</td>\n",
              "      <td>0.479</td>\n",
              "      <td>10.1</td>\n",
              "    </tr>\n",
              "    <tr>\n",
              "      <th>16</th>\n",
              "      <td>Albania</td>\n",
              "      <td>2015</td>\n",
              "      <td>Developing</td>\n",
              "      <td>77.8</td>\n",
              "      <td>74.0</td>\n",
              "      <td>0</td>\n",
              "      <td>4.60</td>\n",
              "      <td>364.975229</td>\n",
              "      <td>99.0</td>\n",
              "      <td>0</td>\n",
              "      <td>58.0</td>\n",
              "      <td>0</td>\n",
              "      <td>99.0</td>\n",
              "      <td>6.00</td>\n",
              "      <td>99.0</td>\n",
              "      <td>0.1</td>\n",
              "      <td>3954.227830</td>\n",
              "      <td>28873.0</td>\n",
              "      <td>1.2</td>\n",
              "      <td>1.3</td>\n",
              "      <td>0.762</td>\n",
              "      <td>14.2</td>\n",
              "    </tr>\n",
              "    <tr>\n",
              "      <th>32</th>\n",
              "      <td>Algeria</td>\n",
              "      <td>2015</td>\n",
              "      <td>Developing</td>\n",
              "      <td>75.6</td>\n",
              "      <td>19.0</td>\n",
              "      <td>21</td>\n",
              "      <td>NaN</td>\n",
              "      <td>0.000000</td>\n",
              "      <td>95.0</td>\n",
              "      <td>63</td>\n",
              "      <td>59.5</td>\n",
              "      <td>24</td>\n",
              "      <td>95.0</td>\n",
              "      <td>NaN</td>\n",
              "      <td>95.0</td>\n",
              "      <td>0.1</td>\n",
              "      <td>4132.762920</td>\n",
              "      <td>39871528.0</td>\n",
              "      <td>6.0</td>\n",
              "      <td>5.8</td>\n",
              "      <td>0.743</td>\n",
              "      <td>14.4</td>\n",
              "    </tr>\n",
              "    <tr>\n",
              "      <th>48</th>\n",
              "      <td>Angola</td>\n",
              "      <td>2015</td>\n",
              "      <td>Developing</td>\n",
              "      <td>52.4</td>\n",
              "      <td>335.0</td>\n",
              "      <td>66</td>\n",
              "      <td>NaN</td>\n",
              "      <td>0.000000</td>\n",
              "      <td>64.0</td>\n",
              "      <td>118</td>\n",
              "      <td>23.3</td>\n",
              "      <td>98</td>\n",
              "      <td>7.0</td>\n",
              "      <td>NaN</td>\n",
              "      <td>64.0</td>\n",
              "      <td>1.9</td>\n",
              "      <td>3695.793748</td>\n",
              "      <td>2785935.0</td>\n",
              "      <td>8.3</td>\n",
              "      <td>8.2</td>\n",
              "      <td>0.531</td>\n",
              "      <td>11.4</td>\n",
              "    </tr>\n",
              "    <tr>\n",
              "      <th>64</th>\n",
              "      <td>Antigua and Barbuda</td>\n",
              "      <td>2015</td>\n",
              "      <td>Developing</td>\n",
              "      <td>76.4</td>\n",
              "      <td>13.0</td>\n",
              "      <td>0</td>\n",
              "      <td>NaN</td>\n",
              "      <td>0.000000</td>\n",
              "      <td>99.0</td>\n",
              "      <td>0</td>\n",
              "      <td>47.7</td>\n",
              "      <td>0</td>\n",
              "      <td>86.0</td>\n",
              "      <td>NaN</td>\n",
              "      <td>99.0</td>\n",
              "      <td>0.2</td>\n",
              "      <td>13566.954100</td>\n",
              "      <td>NaN</td>\n",
              "      <td>3.3</td>\n",
              "      <td>3.3</td>\n",
              "      <td>0.784</td>\n",
              "      <td>13.9</td>\n",
              "    </tr>\n",
              "  </tbody>\n",
              "</table>\n",
              "</div>"
            ],
            "text/plain": [
              "                Country  Year  ... Income composition of resources  Schooling\n",
              "0           Afghanistan  2015  ...                           0.479       10.1\n",
              "16              Albania  2015  ...                           0.762       14.2\n",
              "32              Algeria  2015  ...                           0.743       14.4\n",
              "48               Angola  2015  ...                           0.531       11.4\n",
              "64  Antigua and Barbuda  2015  ...                           0.784       13.9\n",
              "\n",
              "[5 rows x 22 columns]"
            ]
          },
          "metadata": {},
          "execution_count": 2
        }
      ]
    },
    {
      "cell_type": "markdown",
      "metadata": {
        "id": "_zrNu_lEHhsP"
      },
      "source": [
        "# Qualidade dos Dados\n",
        "\n",
        "Verifique a Qualidade dos Dados. Quantos atributos apresentam dados ausentes a qual atributo tem o maior percentual de dados ausentes?"
      ]
    },
    {
      "cell_type": "code",
      "metadata": {
        "id": "fRHY5L195lOj",
        "colab": {
          "base_uri": "https://localhost:8080/"
        },
        "outputId": "a1632f1a-aeb4-4ce8-ea58-171bf39c0ef2"
      },
      "source": [
        "# Seu código\n",
        "\n",
        "print(WHO.isnull().sum())\n",
        "print(WHO.describe())"
      ],
      "execution_count": 4,
      "outputs": [
        {
          "output_type": "stream",
          "name": "stdout",
          "text": [
            "Country                              0\n",
            "Year                                 0\n",
            "Status                               0\n",
            "Life_expectancy                      0\n",
            "Adult Mortality                      0\n",
            "infant deaths                        0\n",
            "Alcohol                            177\n",
            "percentage expenditure               0\n",
            "Hepatitis B                          9\n",
            "Measles                              0\n",
            "BMI                                  2\n",
            "under-five deaths                    0\n",
            "Polio                                0\n",
            "Total expenditure                  181\n",
            "Diphtheria                           0\n",
            " HIV/AIDS                            0\n",
            "GDP                                 29\n",
            "Population                          41\n",
            " thinness  1-19 years                2\n",
            " thinness 5-9 years                  2\n",
            "Income composition of resources     10\n",
            "Schooling                           10\n",
            "dtype: int64\n",
            "         Year  Life_expectancy  ...  Income composition of resources   Schooling\n",
            "count   183.0       183.000000  ...                       173.000000  173.000000\n",
            "mean   2015.0        71.616940  ...                         0.691740   12.927168\n",
            "std       0.0         8.123706  ...                         0.153412    2.912366\n",
            "min    2015.0        51.000000  ...                         0.347000    4.900000\n",
            "25%    2015.0        65.750000  ...                         0.565000   10.800000\n",
            "50%    2015.0        73.900000  ...                         0.723000   13.100000\n",
            "75%    2015.0        76.950000  ...                         0.798000   15.000000\n",
            "max    2015.0        88.000000  ...                         0.948000   20.400000\n",
            "\n",
            "[8 rows x 20 columns]\n"
          ]
        }
      ]
    },
    {
      "cell_type": "markdown",
      "metadata": {
        "id": "vkBJZTRDJah_"
      },
      "source": [
        "# Qualidade dos Dados\n",
        "\n",
        "Alguns países estão classificados como países *em desenvolvimento* e parecem destoar do nosso entendimento geral de países *desenvolvidos $\\times$ em desenvolvimento*. Quais dois países parecem se enquadrar neste caso?\n",
        "\n",
        "(Dica: verifique os países em desenvolvimento que apresentam um GDP que discrepante dos demais) "
      ]
    },
    {
      "cell_type": "code",
      "metadata": {
        "id": "pgulq3tJMJ_R",
        "colab": {
          "base_uri": "https://localhost:8080/",
          "height": 204
        },
        "outputId": "fb66bea0-7545-4c86-f9b5-7fcf90973255"
      },
      "source": [
        "# Seu código\n",
        "desenv = WHO [ (WHO.Status == 'Developing') ]\n",
        "\n",
        "desenv.loc[desenv.GDP.nlargest(5).index][ [ 'Country', 'GDP', 'Status']]"
      ],
      "execution_count": 16,
      "outputs": [
        {
          "output_type": "execute_result",
          "data": {
            "text/html": [
              "<div>\n",
              "<style scoped>\n",
              "    .dataframe tbody tr th:only-of-type {\n",
              "        vertical-align: middle;\n",
              "    }\n",
              "\n",
              "    .dataframe tbody tr th {\n",
              "        vertical-align: top;\n",
              "    }\n",
              "\n",
              "    .dataframe thead th {\n",
              "        text-align: right;\n",
              "    }\n",
              "</style>\n",
              "<table border=\"1\" class=\"dataframe\">\n",
              "  <thead>\n",
              "    <tr style=\"text-align: right;\">\n",
              "      <th></th>\n",
              "      <th>Country</th>\n",
              "      <th>GDP</th>\n",
              "      <th>Status</th>\n",
              "    </tr>\n",
              "  </thead>\n",
              "  <tbody>\n",
              "    <tr>\n",
              "      <th>2071</th>\n",
              "      <td>Qatar</td>\n",
              "      <td>66346.52267</td>\n",
              "      <td>Developing</td>\n",
              "    </tr>\n",
              "    <tr>\n",
              "      <th>496</th>\n",
              "      <td>Canada</td>\n",
              "      <td>43315.74400</td>\n",
              "      <td>Developing</td>\n",
              "    </tr>\n",
              "    <tr>\n",
              "      <th>930</th>\n",
              "      <td>France</td>\n",
              "      <td>36526.77110</td>\n",
              "      <td>Developing</td>\n",
              "    </tr>\n",
              "    <tr>\n",
              "      <th>1266</th>\n",
              "      <td>Israel</td>\n",
              "      <td>35729.37253</td>\n",
              "      <td>Developing</td>\n",
              "    </tr>\n",
              "    <tr>\n",
              "      <th>1394</th>\n",
              "      <td>Kuwait</td>\n",
              "      <td>28975.41800</td>\n",
              "      <td>Developing</td>\n",
              "    </tr>\n",
              "  </tbody>\n",
              "</table>\n",
              "</div>"
            ],
            "text/plain": [
              "     Country          GDP      Status\n",
              "2071   Qatar  66346.52267  Developing\n",
              "496   Canada  43315.74400  Developing\n",
              "930   France  36526.77110  Developing\n",
              "1266  Israel  35729.37253  Developing\n",
              "1394  Kuwait  28975.41800  Developing"
            ]
          },
          "metadata": {},
          "execution_count": 16
        }
      ]
    },
    {
      "cell_type": "code",
      "metadata": {
        "colab": {
          "base_uri": "https://localhost:8080/",
          "height": 204
        },
        "id": "EWbHGDuQW6t1",
        "outputId": "09ce56ef-ae3d-4dcc-e679-dc7955348762"
      },
      "source": [
        "\n",
        "desenv.loc[desenv.GDP.nsmallest(5).index][ [ 'Country', 'GDP', 'Status']]"
      ],
      "execution_count": 17,
      "outputs": [
        {
          "output_type": "execute_result",
          "data": {
            "text/html": [
              "<div>\n",
              "<style scoped>\n",
              "    .dataframe tbody tr th:only-of-type {\n",
              "        vertical-align: middle;\n",
              "    }\n",
              "\n",
              "    .dataframe tbody tr th {\n",
              "        vertical-align: top;\n",
              "    }\n",
              "\n",
              "    .dataframe thead th {\n",
              "        text-align: right;\n",
              "    }\n",
              "</style>\n",
              "<table border=\"1\" class=\"dataframe\">\n",
              "  <thead>\n",
              "    <tr style=\"text-align: right;\">\n",
              "      <th></th>\n",
              "      <th>Country</th>\n",
              "      <th>GDP</th>\n",
              "      <th>Status</th>\n",
              "    </tr>\n",
              "  </thead>\n",
              "  <tbody>\n",
              "    <tr>\n",
              "      <th>416</th>\n",
              "      <td>Burundi</td>\n",
              "      <td>33.681223</td>\n",
              "      <td>Developing</td>\n",
              "    </tr>\n",
              "    <tr>\n",
              "      <th>1554</th>\n",
              "      <td>Madagascar</td>\n",
              "      <td>41.857595</td>\n",
              "      <td>Developing</td>\n",
              "    </tr>\n",
              "    <tr>\n",
              "      <th>144</th>\n",
              "      <td>Azerbaijan</td>\n",
              "      <td>55.313820</td>\n",
              "      <td>Developing</td>\n",
              "    </tr>\n",
              "    <tr>\n",
              "      <th>2007</th>\n",
              "      <td>Peru</td>\n",
              "      <td>63.343259</td>\n",
              "      <td>Developing</td>\n",
              "    </tr>\n",
              "    <tr>\n",
              "      <th>2151</th>\n",
              "      <td>Rwanda</td>\n",
              "      <td>71.348397</td>\n",
              "      <td>Developing</td>\n",
              "    </tr>\n",
              "  </tbody>\n",
              "</table>\n",
              "</div>"
            ],
            "text/plain": [
              "         Country        GDP      Status\n",
              "416      Burundi  33.681223  Developing\n",
              "1554  Madagascar  41.857595  Developing\n",
              "144   Azerbaijan  55.313820  Developing\n",
              "2007        Peru  63.343259  Developing\n",
              "2151      Rwanda  71.348397  Developing"
            ]
          },
          "metadata": {},
          "execution_count": 17
        }
      ]
    },
    {
      "cell_type": "code",
      "metadata": {
        "id": "Hfv9f2OMaa8y"
      },
      "source": [
        ""
      ],
      "execution_count": null,
      "outputs": []
    },
    {
      "cell_type": "code",
      "metadata": {
        "id": "Rf3XxyU-9AMX",
        "colab": {
          "base_uri": "https://localhost:8080/",
          "height": 295
        },
        "outputId": "64c99b92-f825-44ff-eadf-55028e0ca6b6"
      },
      "source": [
        "plt.figure(figsize=(12,4))\n",
        "sns.kdeplot(desenvolvimento.GDP ,label='GDP')\n",
        "plt.title('GDP Densenvolvimento')\n",
        "plt.legend()\n",
        "plt.show()\n"
      ],
      "execution_count": 19,
      "outputs": [
        {
          "output_type": "display_data",
          "data": {
            "image/png": "[encoded data removed]",
            "text/plain": [
              "<Figure size 864x288 with 1 Axes>"
            ]
          },
          "metadata": {
            "needs_background": "light"
          }
        }
      ]
    },
    {
      "cell_type": "code",
      "metadata": {
        "id": "rv5l8hCyb29H",
        "outputId": "896e0469-41db-4a78-d21e-559864b5f9c7",
        "colab": {
          "base_uri": "https://localhost:8080/",
          "height": 295
        }
      },
      "source": [
        "plt.figure(figsize=(12,4))\n",
        "#sns.kdeplot(wine[wine.country == 'Brazil'].price,label='Brazil')\n",
        "sns.kdeplot( WHO[WHO.Status == 'Developing' ].GDP ,label='Desenvolvimento')\n",
        "sns.kdeplot( WHO[WHO.Status == 'Developed' ].GDP ,label='Desenvolvido')\n",
        "plt.title('GDP')\n",
        "plt.legend()\n",
        "plt.show()\n",
        "\n",
        "\n",
        "\n"
      ],
      "execution_count": 20,
      "outputs": [
        {
          "output_type": "display_data",
          "data": {
            "image/png": "[encoded data removed]",
            "text/plain": [
              "<Figure size 864x288 with 1 Axes>"
            ]
          },
          "metadata": {
            "needs_background": "light"
          }
        }
      ]
    },
    {
      "cell_type": "code",
      "metadata": {
        "id": "DW9MGCBscsXF",
        "outputId": "ffbd6c4a-426c-435c-b46e-8c519b0ee399",
        "colab": {
          "base_uri": "https://localhost:8080/",
          "height": 318
        }
      },
      "source": [
        "discrep = desenv[ (desenv.GDP >= -20000) & (desenv.GDP <= 10000) ]\n",
        "\n",
        "print(discrep)\n",
        "discrep.head()\n",
        "\n",
        "discrep.loc[discrep.GDP.nsmallest(1).index][ [ 'Country', 'GDP', 'Status']]"
      ],
      "execution_count": 33,
      "outputs": [
        {
          "output_type": "stream",
          "name": "stdout",
          "text": [
            "                   Country  Year  ... Income composition of resources  Schooling\n",
            "0              Afghanistan  2015  ...                           0.479       10.1\n",
            "16                 Albania  2015  ...                           0.762       14.2\n",
            "32                 Algeria  2015  ...                           0.743       14.4\n",
            "48                  Angola  2015  ...                           0.531       11.4\n",
            "96                 Armenia  2015  ...                           0.741       12.7\n",
            "...                    ...   ...  ...                             ...        ...\n",
            "2746  United Arab Emirates  2015  ...                           0.836       13.3\n",
            "2826            Uzbekistan  2015  ...                           0.697       12.1\n",
            "2842               Vanuatu  2015  ...                           0.598       10.8\n",
            "2906                Zambia  2015  ...                           0.576       12.5\n",
            "2922              Zimbabwe  2015  ...                           0.507       10.3\n",
            "\n",
            "[112 rows x 22 columns]\n"
          ]
        },
        {
          "output_type": "execute_result",
          "data": {
            "text/html": [
              "<div>\n",
              "<style scoped>\n",
              "    .dataframe tbody tr th:only-of-type {\n",
              "        vertical-align: middle;\n",
              "    }\n",
              "\n",
              "    .dataframe tbody tr th {\n",
              "        vertical-align: top;\n",
              "    }\n",
              "\n",
              "    .dataframe thead th {\n",
              "        text-align: right;\n",
              "    }\n",
              "</style>\n",
              "<table border=\"1\" class=\"dataframe\">\n",
              "  <thead>\n",
              "    <tr style=\"text-align: right;\">\n",
              "      <th></th>\n",
              "      <th>Country</th>\n",
              "      <th>GDP</th>\n",
              "      <th>Status</th>\n",
              "    </tr>\n",
              "  </thead>\n",
              "  <tbody>\n",
              "    <tr>\n",
              "      <th>416</th>\n",
              "      <td>Burundi</td>\n",
              "      <td>33.681223</td>\n",
              "      <td>Developing</td>\n",
              "    </tr>\n",
              "  </tbody>\n",
              "</table>\n",
              "</div>"
            ],
            "text/plain": [
              "     Country        GDP      Status\n",
              "416  Burundi  33.681223  Developing"
            ]
          },
          "metadata": {},
          "execution_count": 33
        }
      ]
    },
    {
      "cell_type": "markdown",
      "metadata": {
        "id": "OfEScFxBKY3e"
      },
      "source": [
        "# Distribuição dos Dados\n",
        "\n",
        "Analise a Distribuição da Expectativa de Vida entre os países Desenvolvidos e em Desenvolvimento. O que você consegue afirmar sobre essas distribuições? "
      ]
    },
    {
      "cell_type": "code",
      "metadata": {
        "id": "FjY7MDViMLdc"
      },
      "source": [
        "# Seu código\n",
        "\n",
        "desenvolvimento = WHO [ (WHO.Status == 'Developing') ]\n",
        "desenvolvido = WHO [ (WHO.Status == 'Developed') ]\n",
        "\n"
      ],
      "execution_count": 18,
      "outputs": []
    },
    {
      "cell_type": "markdown",
      "metadata": {
        "id": "u0rWQ7awKt5V"
      },
      "source": [
        "# Relações\n",
        "\n",
        "Quais índices aparecem como mais correlacionados a Expectativa de Vida dos países em Desenvolvimento?  "
      ]
    },
    {
      "cell_type": "code",
      "metadata": {
        "id": "RWxUK-s3MMiT"
      },
      "source": [
        "# Seu código"
      ],
      "execution_count": null,
      "outputs": []
    },
    {
      "cell_type": "markdown",
      "metadata": {
        "id": "1WkN-T57LUjd"
      },
      "source": [
        "# Ranking\n",
        "\n",
        "Qual a posição do Brasil no Ranking de Escolaridade (`Schooling`) com relação aos demais países? "
      ]
    },
    {
      "cell_type": "code",
      "metadata": {
        "id": "2fheoxdEMNaQ",
        "colab": {
          "base_uri": "https://localhost:8080/",
          "height": 308
        },
        "outputId": "dd04b93f-c93f-4ef4-f62a-42848a6fda4b"
      },
      "source": [
        "# Seu código\n",
        "plt.figure(figsize=(14,4))\n",
        "sns.countplot(x=WHO.Schooling)\n",
        "plt.title('Country Schooling')\n",
        "plt.xticks(rotation=45)\n",
        "plt.show()"
      ],
      "execution_count": 39,
      "outputs": [
        {
          "output_type": "display_data",
          "data": {
            "image/png": "[encoded data removed]",
            "text/plain": [
              "<Figure size 1008x288 with 1 Axes>"
            ]
          },
          "metadata": {
            "needs_background": "light"
          }
        }
      ]
    },
    {
      "cell_type": "code",
      "metadata": {
        "id": "3giE10Swjg1J",
        "outputId": "81d0c9b6-4f52-4cee-84a1-dfd016a2f3a6",
        "colab": {
          "base_uri": "https://localhost:8080/",
          "height": 295
        }
      },
      "source": [
        "plt.figure(figsize=(12,4))\n",
        "sns.kdeplot(WHO.Schooling, label='Escola')\n",
        "sns.kdeplot(WHO[WHO.Country == 'Brasil'].Schooling, label='Brazil')\n",
        "plt.title('Escola')\n",
        "plt.legend()\n",
        "plt.show()\n"
      ],
      "execution_count": 46,
      "outputs": [
        {
          "output_type": "display_data",
          "data": {
            "image/png": "[encoded data removed]",
            "text/plain": [
              "<Figure size 864x288 with 1 Axes>"
            ]
          },
          "metadata": {
            "needs_background": "light"
          }
        }
      ]
    }
  ]
}